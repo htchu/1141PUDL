{
  "nbformat": 4,
  "nbformat_minor": 0,
  "metadata": {
    "colab": {
      "provenance": []
    },
    "kernelspec": {
      "display_name": "Python 3",
      "language": "python",
      "name": "python3"
    },
    "language_info": {
      "codemirror_mode": {
        "name": "ipython",
        "version": 3
      },
      "file_extension": ".py",
      "mimetype": "text/x-python",
      "name": "python",
      "nbconvert_exporter": "python",
      "pygments_lexer": "ipython3",
      "version": "3.7.6"
    }
  },
  "cells": [
    {
      "cell_type": "markdown",
      "metadata": {
        "id": "EUjJ7ImLnPVr"
      },
      "source": [
        "<img src=\"https://i.ibb.co/qjt4Ymb/2022-09-19-004719.png\" alt=\"2022-09-19-004719\" border=\"0\">\n",
        "\n",
        "# Topic 01: Introduction to Deep Learning"
      ]
    },
    {
      "cell_type": "markdown",
      "source": [
        "## Deep learning related packages\n",
        "\n",
        "1. Python: https://www.python.org/   \n",
        "2. NumPy: https://numpy.org/\n",
        "3. pandas: https://pandas.pydata.org/\n",
        "4. OpenCV: https://opencv.org/\n",
        "5. Pillow: https://pillow.readthedocs.io/\n",
        "6. scikit-learn: https://scikit-learn.org/\n",
        "7. TensorFlow: https://www.tensorflow.org/\n",
        "8. Keras: https://keras.io/\n",
        "9. PyTorch: https://pytorch.org/\n",
        "\n"
      ],
      "metadata": {
        "id": "Tl5zlbpOKD5n"
      }
    },
    {
      "cell_type": "markdown",
      "source": [
        "# PyTorch VS TensorFlow\n",
        "\n",
        "<img src=\"https://i.ibb.co/Tb9bcDz/pttf.png\" alt=\"pttf\" border=\"0\">"
      ],
      "metadata": {
        "id": "uy4NPLazXg-7"
      }
    },
    {
      "cell_type": "markdown",
      "source": [],
      "metadata": {
        "id": "1Z_3CxIlVkNn"
      }
    }
  ]
}